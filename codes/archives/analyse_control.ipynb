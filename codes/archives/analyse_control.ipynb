{
 "cells": [
  {
   "cell_type": "code",
   "execution_count": 13,
   "metadata": {},
   "outputs": [],
   "source": [
    "import numpy as np\n",
    "import pandas as pd\n",
    "import matplotlib.pyplot as plt\n",
    "import statsmodels.api as sm\n",
    "from analysis import *"
   ]
  },
  {
   "cell_type": "code",
   "execution_count": 47,
   "metadata": {},
   "outputs": [],
   "source": [
    "SSI = pd.read_csv('../data/SSI.csv',index_col=0)[:162]\n",
    "SSI.index = pd.to_datetime(SSI.index)\n"
   ]
  },
  {
   "cell_type": "code",
   "execution_count": 56,
   "metadata": {},
   "outputs": [
    {
     "name": "stderr",
     "output_type": "stream",
     "text": [
      "C:\\Users\\collo\\AppData\\Local\\Temp\\ipykernel_29616\\3520573833.py:2: FutureWarning: 'M' is deprecated and will be removed in a future version, please use 'ME' instead.\n",
      "  VIX=VIX.reset_index(drop=False).resample('M', on='Date').sum()[1:163]\n"
     ]
    },
    {
     "data": {
      "text/html": [
       "<div>\n",
       "<style scoped>\n",
       "    .dataframe tbody tr th:only-of-type {\n",
       "        vertical-align: middle;\n",
       "    }\n",
       "\n",
       "    .dataframe tbody tr th {\n",
       "        vertical-align: top;\n",
       "    }\n",
       "\n",
       "    .dataframe thead th {\n",
       "        text-align: right;\n",
       "    }\n",
       "</style>\n",
       "<table border=\"1\" class=\"dataframe\">\n",
       "  <thead>\n",
       "    <tr style=\"text-align: right;\">\n",
       "      <th></th>\n",
       "      <th>VIX Index</th>\n",
       "    </tr>\n",
       "    <tr>\n",
       "      <th>Date</th>\n",
       "      <th></th>\n",
       "    </tr>\n",
       "  </thead>\n",
       "  <tbody>\n",
       "    <tr>\n",
       "      <th>2006-07-31</th>\n",
       "      <td>306.52</td>\n",
       "    </tr>\n",
       "    <tr>\n",
       "      <th>2006-08-31</th>\n",
       "      <td>307.09</td>\n",
       "    </tr>\n",
       "    <tr>\n",
       "      <th>2006-09-30</th>\n",
       "      <td>243.69</td>\n",
       "    </tr>\n",
       "    <tr>\n",
       "      <th>2006-10-31</th>\n",
       "      <td>248.74</td>\n",
       "    </tr>\n",
       "    <tr>\n",
       "      <th>2006-11-30</th>\n",
       "      <td>227.17</td>\n",
       "    </tr>\n",
       "    <tr>\n",
       "      <th>...</th>\n",
       "      <td>...</td>\n",
       "    </tr>\n",
       "    <tr>\n",
       "      <th>2019-08-31</th>\n",
       "      <td>417.54</td>\n",
       "    </tr>\n",
       "    <tr>\n",
       "      <th>2019-09-30</th>\n",
       "      <td>311.18</td>\n",
       "    </tr>\n",
       "    <tr>\n",
       "      <th>2019-10-31</th>\n",
       "      <td>355.73</td>\n",
       "    </tr>\n",
       "    <tr>\n",
       "      <th>2019-11-30</th>\n",
       "      <td>250.47</td>\n",
       "    </tr>\n",
       "    <tr>\n",
       "      <th>2019-12-31</th>\n",
       "      <td>288.89</td>\n",
       "    </tr>\n",
       "  </tbody>\n",
       "</table>\n",
       "<p>162 rows × 1 columns</p>\n",
       "</div>"
      ],
      "text/plain": [
       "            VIX Index\n",
       "Date                 \n",
       "2006-07-31     306.52\n",
       "2006-08-31     307.09\n",
       "2006-09-30     243.69\n",
       "2006-10-31     248.74\n",
       "2006-11-30     227.17\n",
       "...               ...\n",
       "2019-08-31     417.54\n",
       "2019-09-30     311.18\n",
       "2019-10-31     355.73\n",
       "2019-11-30     250.47\n",
       "2019-12-31     288.89\n",
       "\n",
       "[162 rows x 1 columns]"
      ]
     },
     "execution_count": 56,
     "metadata": {},
     "output_type": "execute_result"
    }
   ],
   "source": [
    "VIX = pd.read_excel(\"../data/vix.xlsx\",index_col=0)[['VIX Index']]\n",
    "VIX=VIX.reset_index(drop=False).resample('M', on='Date').sum()[1:163]\n",
    "VIX"
   ]
  },
  {
   "cell_type": "code",
   "execution_count": 49,
   "metadata": {},
   "outputs": [
    {
     "name": "stderr",
     "output_type": "stream",
     "text": [
      "C:\\Users\\collo\\AppData\\Local\\Temp\\ipykernel_29616\\180376769.py:3: FutureWarning: 'M' is deprecated and will be removed in a future version, please use 'ME' instead.\n",
      "  SP500=SP500.reset_index(drop=False).resample('M', on='Date').sum().pct_change()[6:169]\n"
     ]
    }
   ],
   "source": [
    "SP500 = pd.read_excel(\"../data/sp500.xlsx\",index_col=0)[['PX_LAST']]\n",
    "SP500.index = pd.to_datetime(SP500.index)\n",
    "SP500=SP500.reset_index(drop=False).resample('M', on='Date').sum().pct_change()[6:169]"
   ]
  },
  {
   "cell_type": "code",
   "execution_count": 50,
   "metadata": {},
   "outputs": [
    {
     "name": "stderr",
     "output_type": "stream",
     "text": [
      "C:\\Users\\collo\\AppData\\Local\\Temp\\ipykernel_29616\\559648182.py:5: FutureWarning: 'M' is deprecated and will be removed in a future version, please use 'ME' instead.\n",
      "  pastor=pastor.reset_index(drop=False).resample('M', on='Date').sum()\n"
     ]
    }
   ],
   "source": [
    "pastor = pd.read_csv(\"../data/pastor_series.txt\", delimiter='\\t').reset_index(drop=False)\n",
    "pastor.columns = ['Date','Agg_Liq','Innov_Liq','Traded_Liq']\n",
    "pastor = pastor.set_index('Date')[['Agg_Liq']]\n",
    "pastor.index = pd.to_datetime(pastor.index,format='%Y%m')\n",
    "pastor=pastor.reset_index(drop=False).resample('M', on='Date').sum()"
   ]
  },
  {
   "cell_type": "code",
   "execution_count": 51,
   "metadata": {},
   "outputs": [
    {
     "data": {
      "text/html": [
       "<div>\n",
       "<style scoped>\n",
       "    .dataframe tbody tr th:only-of-type {\n",
       "        vertical-align: middle;\n",
       "    }\n",
       "\n",
       "    .dataframe tbody tr th {\n",
       "        vertical-align: top;\n",
       "    }\n",
       "\n",
       "    .dataframe thead th {\n",
       "        text-align: right;\n",
       "    }\n",
       "</style>\n",
       "<table border=\"1\" class=\"dataframe\">\n",
       "  <thead>\n",
       "    <tr style=\"text-align: right;\">\n",
       "      <th></th>\n",
       "      <th>Agg_Liq</th>\n",
       "    </tr>\n",
       "    <tr>\n",
       "      <th>Date</th>\n",
       "      <th></th>\n",
       "    </tr>\n",
       "  </thead>\n",
       "  <tbody>\n",
       "    <tr>\n",
       "      <th>1962-08-31</th>\n",
       "      <td>-0.017537</td>\n",
       "    </tr>\n",
       "    <tr>\n",
       "      <th>1962-09-30</th>\n",
       "      <td>-0.004075</td>\n",
       "    </tr>\n",
       "    <tr>\n",
       "      <th>1962-10-31</th>\n",
       "      <td>-0.104212</td>\n",
       "    </tr>\n",
       "    <tr>\n",
       "      <th>1962-11-30</th>\n",
       "      <td>-0.019742</td>\n",
       "    </tr>\n",
       "    <tr>\n",
       "      <th>1962-12-31</th>\n",
       "      <td>-0.005089</td>\n",
       "    </tr>\n",
       "    <tr>\n",
       "      <th>...</th>\n",
       "      <td>...</td>\n",
       "    </tr>\n",
       "    <tr>\n",
       "      <th>2022-08-31</th>\n",
       "      <td>0.015746</td>\n",
       "    </tr>\n",
       "    <tr>\n",
       "      <th>2022-09-30</th>\n",
       "      <td>-0.009563</td>\n",
       "    </tr>\n",
       "    <tr>\n",
       "      <th>2022-10-31</th>\n",
       "      <td>-0.023783</td>\n",
       "    </tr>\n",
       "    <tr>\n",
       "      <th>2022-11-30</th>\n",
       "      <td>0.012527</td>\n",
       "    </tr>\n",
       "    <tr>\n",
       "      <th>2022-12-31</th>\n",
       "      <td>0.020340</td>\n",
       "    </tr>\n",
       "  </tbody>\n",
       "</table>\n",
       "<p>725 rows × 1 columns</p>\n",
       "</div>"
      ],
      "text/plain": [
       "             Agg_Liq\n",
       "Date                \n",
       "1962-08-31 -0.017537\n",
       "1962-09-30 -0.004075\n",
       "1962-10-31 -0.104212\n",
       "1962-11-30 -0.019742\n",
       "1962-12-31 -0.005089\n",
       "...              ...\n",
       "2022-08-31  0.015746\n",
       "2022-09-30 -0.009563\n",
       "2022-10-31 -0.023783\n",
       "2022-11-30  0.012527\n",
       "2022-12-31  0.020340\n",
       "\n",
       "[725 rows x 1 columns]"
      ]
     },
     "execution_count": 51,
     "metadata": {},
     "output_type": "execute_result"
    }
   ],
   "source": [
    "pastor"
   ]
  },
  {
   "cell_type": "code",
   "execution_count": 54,
   "metadata": {},
   "outputs": [],
   "source": [
    "def control_analysis(serie,ssi,control):\n",
    "    # regression des données entre elles avec un lag\n",
    "    scaler = StandardScaler()\n",
    "    ssi = pd.DataFrame(scaler.fit_transform(ssi),index=ssi.index,columns=ssi.columns)\n",
    "    scaler1 = StandardScaler()\n",
    "    control = pd.DataFrame(scaler1.fit_transform(control),index=control.index,columns=control.columns)\n",
    "    x = pd.concat([ssi, control],axis=1).dropna()\n",
    "    print(x)\n",
    "    y = serie.shift(-1).dropna()\n",
    "    x,y=index_aligned(x,y)\n",
    "    results = get_OLS(x, y)\n",
    "    return results,(x,y)"
   ]
  },
  {
   "cell_type": "code",
   "execution_count": 55,
   "metadata": {},
   "outputs": [
    {
     "name": "stdout",
     "output_type": "stream",
     "text": [
      "                   0   Agg_Liq\n",
      "2006-08-31 -5.753386  0.717677\n",
      "2006-09-30 -2.312582 -0.531940\n",
      "2006-10-31 -1.035161  0.970927\n",
      "2006-11-30  0.026424  0.367496\n",
      "2006-12-31 -0.490989  0.919115\n",
      "...              ...       ...\n",
      "2019-09-30  0.005584 -0.333764\n",
      "2019-10-31  0.081019 -0.660482\n",
      "2019-11-30 -0.250215 -0.298694\n",
      "2019-12-31  0.207649  0.126035\n",
      "2020-01-31 -0.223994 -0.236498\n",
      "\n",
      "[162 rows x 2 columns]\n"
     ]
    },
    {
     "data": {
      "text/plain": [
       "(<statsmodels.regression.linear_model.RegressionResultsWrapper at 0x24072655f90>,\n",
       " (                   0   Agg_Liq\n",
       "  2006-08-31 -5.753386  0.717677\n",
       "  2006-09-30 -2.312582 -0.531940\n",
       "  2006-10-31 -1.035161  0.970927\n",
       "  2006-11-30  0.026424  0.367496\n",
       "  2006-12-31 -0.490989  0.919115\n",
       "  ...              ...       ...\n",
       "  2019-08-31  0.001067  1.191096\n",
       "  2019-09-30  0.005584 -0.333764\n",
       "  2019-10-31  0.081019 -0.660482\n",
       "  2019-11-30 -0.250215 -0.298694\n",
       "  2019-12-31  0.207649  0.126035\n",
       "  \n",
       "  [161 rows x 2 columns],\n",
       "               PX_LAST\n",
       "  2006-08-31 -0.109726\n",
       "  2006-09-30  0.138047\n",
       "  2006-10-31 -0.027779\n",
       "  2006-11-30 -0.028560\n",
       "  2006-12-31  0.005466\n",
       "  ...              ...\n",
       "  2019-08-31 -0.064348\n",
       "  2019-09-30  0.148272\n",
       "  2019-10-31 -0.093280\n",
       "  2019-11-30  0.074296\n",
       "  2019-12-31  0.031936\n",
       "  \n",
       "  [161 rows x 1 columns]))"
      ]
     },
     "execution_count": 55,
     "metadata": {},
     "output_type": "execute_result"
    }
   ],
   "source": [
    "control_analysis(SP500,SSI,pastor)\n"
   ]
  },
  {
   "cell_type": "code",
   "execution_count": null,
   "metadata": {},
   "outputs": [],
   "source": [
    "# Données d'exemple\n",
    "x = np.column_stack((SSI['0'], VIX['VIX Index']))\n",
    "y = SP500['PX_LAST'].shift(-1).dropna()\n",
    "x_with_const = sm.add_constant(x)\n",
    "\n",
    "# Modélisation de la régression\n",
    "model = sm.OLS(y, x_with_const)\n",
    "results = model.fit()\n",
    "print(results.summary())\n"
   ]
  },
  {
   "cell_type": "code",
   "execution_count": null,
   "metadata": {},
   "outputs": [],
   "source": [
    "# Données d'exemple\n",
    "x = np.column_stack((SSI['0'], pastor))\n",
    "y = SP500['PX_LAST'].shift(-1).dropna()\n",
    "x_with_const = sm.add_constant(x)\n",
    "\n",
    "# Modélisation de la régression\n",
    "model = sm.OLS(y, x_with_const)\n",
    "results = model.fit()\n",
    "print(results.summary())\n"
   ]
  }
 ],
 "metadata": {
  "kernelspec": {
   "display_name": "Python 3",
   "language": "python",
   "name": "python3"
  },
  "language_info": {
   "codemirror_mode": {
    "name": "ipython",
    "version": 3
   },
   "file_extension": ".py",
   "mimetype": "text/x-python",
   "name": "python",
   "nbconvert_exporter": "python",
   "pygments_lexer": "ipython3",
   "version": "3.11.2"
  }
 },
 "nbformat": 4,
 "nbformat_minor": 2
}
