{
 "cells": [
  {
   "cell_type": "markdown",
   "metadata": {},
   "source": [
    "# Analyse des Aggregates Returns"
   ]
  },
  {
   "cell_type": "markdown",
   "metadata": {},
   "source": [
    "## Importation"
   ]
  },
  {
   "cell_type": "code",
   "execution_count": 14,
   "metadata": {},
   "outputs": [],
   "source": [
    "import numpy as np\n",
    "import pandas as pd\n",
    "import matplotlib.pyplot as plt\n",
    "import statsmodels.api as sm"
   ]
  },
  {
   "cell_type": "markdown",
   "metadata": {},
   "source": [
    "## Fonctions"
   ]
  },
  {
   "cell_type": "code",
   "execution_count": 15,
   "metadata": {},
   "outputs": [],
   "source": [
    "def get_OLS(x,y):\n",
    "    x_with_const = sm.add_constant(x)\n",
    "    # Modélisation de la régression\n",
    "    model = sm.OLS(y, x_with_const)\n",
    "    results = model.fit()\n",
    "    return results"
   ]
  },
  {
   "cell_type": "code",
   "execution_count": 16,
   "metadata": {},
   "outputs": [],
   "source": [
    "def bootstrap_bias(data,params,nb) :\n",
    "    betas = []\n",
    "    stats = []\n",
    "    rsquared = []\n",
    "    for _ in range(nb):\n",
    "        sample = data.sample(frac=1, replace=True)  # Resample with replacement\n",
    "        res = get_OLS(sample['SSI'],sample.iloc[:,1])\n",
    "        betas.append(res.params[1])\n",
    "        stats.append(res.tvalues[1])\n",
    "        rsquared.append(res.rsquared_adj)\n",
    "    bias = np.mean(betas) - params[1]\n",
    "    pvalue = np.mean(np.abs(stats))\n",
    "    percentiles = [90, 95, 99]\n",
    "    r2adj = [np.percentile(rsquared, p) for p in percentiles]\n",
    "    return bias,pvalue,r2adj"
   ]
  },
  {
   "cell_type": "markdown",
   "metadata": {},
   "source": [
    "## Données"
   ]
  },
  {
   "cell_type": "code",
   "execution_count": 17,
   "metadata": {},
   "outputs": [],
   "source": [
    "SSI = pd.read_csv(r'C:\\Users\\collo\\Documents\\Etudes\\Dauphine\\API BLOOM\\DAUPHINE_Python_Bloomberg\\data\\SSI.csv',index_col=0)\n",
    "SSI.columns=['SSI']"
   ]
  },
  {
   "cell_type": "code",
   "execution_count": 18,
   "metadata": {},
   "outputs": [],
   "source": [
    "SP500 = pd.read_excel(r\"C:\\Users\\collo\\Documents\\Etudes\\Dauphine\\API BLOOM\\DAUPHINE_Python_Bloomberg\\data\\sp500.xlsx\",index_col=0)[['PX_LAST']]\n",
    "SP500_lag = SP500\n",
    "SP500=SP500.reset_index(drop=False).resample('M', on='Date').mean().pct_change()"
   ]
  },
  {
   "cell_type": "markdown",
   "metadata": {},
   "source": [
    "## Comtemporaine"
   ]
  },
  {
   "cell_type": "markdown",
   "metadata": {},
   "source": [
    "Full sample"
   ]
  },
  {
   "cell_type": "code",
   "execution_count": 19,
   "metadata": {},
   "outputs": [
    {
     "name": "stdout",
     "output_type": "stream",
     "text": [
      "                            OLS Regression Results                            \n",
      "==============================================================================\n",
      "Dep. Variable:                PX_LAST   R-squared:                       0.470\n",
      "Model:                            OLS   Adj. R-squared:                  0.467\n",
      "Method:                 Least Squares   F-statistic:                     142.0\n",
      "Date:                Fri, 15 Mar 2024   Prob (F-statistic):           7.67e-24\n",
      "Time:                        13:26:49   Log-Likelihood:                 360.38\n",
      "No. Observations:                 162   AIC:                            -716.8\n",
      "Df Residuals:                     160   BIC:                            -710.6\n",
      "Df Model:                           1                                         \n",
      "Covariance Type:            nonrobust                                         \n",
      "==============================================================================\n",
      "                 coef    std err          t      P>|t|      [0.025      0.975]\n",
      "------------------------------------------------------------------------------\n",
      "const          0.0005      0.002      0.252      0.802      -0.004       0.005\n",
      "SSI            1.0416      0.087     11.918      0.000       0.869       1.214\n",
      "==============================================================================\n",
      "Omnibus:                       64.601   Durbin-Watson:                   2.481\n",
      "Prob(Omnibus):                  0.000   Jarque-Bera (JB):              220.723\n",
      "Skew:                          -1.542   Prob(JB):                     1.18e-48\n",
      "Kurtosis:                       7.816   Cond. No.                         42.3\n",
      "==============================================================================\n",
      "\n",
      "Notes:\n",
      "[1] Standard Errors assume that the covariance matrix of the errors is correctly specified.\n"
     ]
    }
   ],
   "source": [
    "# Données d'exemple\n",
    "x = SSI['SSI'][:162]\n",
    "y = SP500['PX_LAST'][6:168]\n",
    "x.index = y.index\n",
    "# Modélisation de la régression\n",
    "results = get_OLS(x, y)\n",
    "print(results.summary())"
   ]
  },
  {
   "cell_type": "markdown",
   "metadata": {},
   "source": [
    "Post 2009"
   ]
  },
  {
   "cell_type": "code",
   "execution_count": 20,
   "metadata": {},
   "outputs": [
    {
     "name": "stdout",
     "output_type": "stream",
     "text": [
      "                            OLS Regression Results                            \n",
      "==============================================================================\n",
      "Dep. Variable:                PX_LAST   R-squared:                       0.393\n",
      "Model:                            OLS   Adj. R-squared:                  0.389\n",
      "Method:                 Least Squares   F-statistic:                     84.27\n",
      "Date:                Fri, 15 Mar 2024   Prob (F-statistic):           8.61e-16\n",
      "Time:                        13:26:49   Log-Likelihood:                 306.15\n",
      "No. Observations:                 132   AIC:                            -608.3\n",
      "Df Residuals:                     130   BIC:                            -602.5\n",
      "Df Model:                           1                                         \n",
      "Covariance Type:            nonrobust                                         \n",
      "==============================================================================\n",
      "                 coef    std err          t      P>|t|      [0.025      0.975]\n",
      "------------------------------------------------------------------------------\n",
      "const          0.0037      0.002      1.685      0.094      -0.001       0.008\n",
      "SSI            0.8591      0.094      9.180      0.000       0.674       1.044\n",
      "==============================================================================\n",
      "Omnibus:                       35.546   Durbin-Watson:                   2.542\n",
      "Prob(Omnibus):                  0.000   Jarque-Bera (JB):               91.499\n",
      "Skew:                          -1.037   Prob(JB):                     1.35e-20\n",
      "Kurtosis:                       6.512   Cond. No.                         44.8\n",
      "==============================================================================\n",
      "\n",
      "Notes:\n",
      "[1] Standard Errors assume that the covariance matrix of the errors is correctly specified.\n"
     ]
    }
   ],
   "source": [
    "# Données d'exemple\n",
    "x = SSI['SSI'][:162][30:]\n",
    "y = SP500['PX_LAST'][6:168][30:]\n",
    "x.index = y.index\n",
    "results = get_OLS(x, y)\n",
    "print(results.summary())\n"
   ]
  },
  {
   "cell_type": "markdown",
   "metadata": {},
   "source": [
    "## Predictive"
   ]
  },
  {
   "cell_type": "markdown",
   "metadata": {},
   "source": [
    "### Full sample"
   ]
  },
  {
   "cell_type": "code",
   "execution_count": 21,
   "metadata": {},
   "outputs": [
    {
     "name": "stdout",
     "output_type": "stream",
     "text": [
      "                            OLS Regression Results                            \n",
      "==============================================================================\n",
      "Dep. Variable:                PX_LAST   R-squared:                       0.280\n",
      "Model:                            OLS   Adj. R-squared:                  0.276\n",
      "Method:                 Least Squares   F-statistic:                     62.25\n",
      "Date:                Fri, 15 Mar 2024   Prob (F-statistic):           4.49e-13\n",
      "Time:                        13:26:49   Log-Likelihood:                 335.28\n",
      "No. Observations:                 162   AIC:                            -666.6\n",
      "Df Residuals:                     160   BIC:                            -660.4\n",
      "Df Model:                           1                                         \n",
      "Covariance Type:            nonrobust                                         \n",
      "==============================================================================\n",
      "                 coef    std err          t      P>|t|      [0.025      0.975]\n",
      "------------------------------------------------------------------------------\n",
      "const          0.0020      0.002      0.820      0.414      -0.003       0.007\n",
      "SSI            0.8051      0.102      7.890      0.000       0.604       1.007\n",
      "==============================================================================\n",
      "Omnibus:                       56.212   Durbin-Watson:                   2.219\n",
      "Prob(Omnibus):                  0.000   Jarque-Bera (JB):              205.098\n",
      "Skew:                          -1.287   Prob(JB):                     2.91e-45\n",
      "Kurtosis:                       7.875   Cond. No.                         42.3\n",
      "==============================================================================\n",
      "\n",
      "Notes:\n",
      "[1] Standard Errors assume that the covariance matrix of the errors is correctly specified.\n"
     ]
    }
   ],
   "source": [
    "# Données d'exemple\n",
    "x = SSI['SSI'][:162]\n",
    "y = SP500['PX_LAST'][6:169].shift(-1).dropna()\n",
    "x.index = y.index\n",
    "# Modélisation de la régression\n",
    "results = get_OLS(x, y)\n",
    "print(results.summary())\n"
   ]
  },
  {
   "cell_type": "markdown",
   "metadata": {},
   "source": [
    "### post - 2009"
   ]
  },
  {
   "cell_type": "code",
   "execution_count": 22,
   "metadata": {},
   "outputs": [
    {
     "name": "stdout",
     "output_type": "stream",
     "text": [
      "                            OLS Regression Results                            \n",
      "==============================================================================\n",
      "Dep. Variable:                PX_LAST   R-squared:                       0.218\n",
      "Model:                            OLS   Adj. R-squared:                  0.212\n",
      "Method:                 Least Squares   F-statistic:                     36.34\n",
      "Date:                Fri, 15 Mar 2024   Prob (F-statistic):           1.60e-08\n",
      "Time:                        13:26:49   Log-Likelihood:                 289.50\n",
      "No. Observations:                 132   AIC:                            -575.0\n",
      "Df Residuals:                     130   BIC:                            -569.2\n",
      "Df Model:                           1                                         \n",
      "Covariance Type:            nonrobust                                         \n",
      "==============================================================================\n",
      "                 coef    std err          t      P>|t|      [0.025      0.975]\n",
      "------------------------------------------------------------------------------\n",
      "const          0.0057      0.003      2.290      0.024       0.001       0.011\n",
      "SSI            0.6400      0.106      6.029      0.000       0.430       0.850\n",
      "==============================================================================\n",
      "Omnibus:                       16.847   Durbin-Watson:                   2.304\n",
      "Prob(Omnibus):                  0.000   Jarque-Bera (JB):               28.597\n",
      "Skew:                          -0.597   Prob(JB):                     6.17e-07\n",
      "Kurtosis:                       4.943   Cond. No.                         44.8\n",
      "==============================================================================\n",
      "\n",
      "Notes:\n",
      "[1] Standard Errors assume that the covariance matrix of the errors is correctly specified.\n"
     ]
    }
   ],
   "source": [
    "# Données d'exemple\n",
    "x = SSI['SSI'][:162][30:]\n",
    "y = SP500['PX_LAST'][6:169][30:].shift(-1).dropna()\n",
    "x.index = y.index\n",
    "# Modélisation de la régression\n",
    "results = get_OLS(x, y)\n",
    "print(results.summary())"
   ]
  },
  {
   "cell_type": "code",
   "execution_count": 23,
   "metadata": {},
   "outputs": [
    {
     "data": {
      "text/plain": [
       "(0.0001077360176933162,\n",
       " 6.105053473995205,\n",
       " [0.30838154746285734, 0.3362736257265767, 0.3821108800232682])"
      ]
     },
     "execution_count": 23,
     "metadata": {},
     "output_type": "execute_result"
    }
   ],
   "source": [
    "data = pd.DataFrame({\n",
    "    'SSI': x,\n",
    "    'PX_LAST': y})\n",
    "bootstrap_bias(data,results.params,1000)"
   ]
  }
 ],
 "metadata": {
  "kernelspec": {
   "display_name": "Python 3",
   "language": "python",
   "name": "python3"
  },
  "language_info": {
   "codemirror_mode": {
    "name": "ipython",
    "version": 3
   },
   "file_extension": ".py",
   "mimetype": "text/x-python",
   "name": "python",
   "nbconvert_exporter": "python",
   "pygments_lexer": "ipython3",
   "version": "3.11.2"
  }
 },
 "nbformat": 4,
 "nbformat_minor": 2
}
