{
 "cells": [
  {
   "cell_type": "code",
   "execution_count": null,
   "metadata": {},
   "outputs": [],
   "source": [
    "import numpy as np\n",
    "import pandas as pd\n",
    "import matplotlib.pyplot as plt\n",
    "import statsmodels.api as sm"
   ]
  },
  {
   "cell_type": "code",
   "execution_count": null,
   "metadata": {},
   "outputs": [],
   "source": [
    "SSI = pd.read_csv('SSI.csv',index_col=0)[:162]"
   ]
  },
  {
   "cell_type": "code",
   "execution_count": null,
   "metadata": {},
   "outputs": [],
   "source": [
    "VIX = pd.read_excel(\"vix.xlsx\",index_col=0)[['VIX Index']]\n",
    "VIX=VIX.reset_index(drop=False).resample('M', on='Date').sum()[1:163]"
   ]
  },
  {
   "cell_type": "code",
   "execution_count": null,
   "metadata": {},
   "outputs": [],
   "source": [
    "SP500 = pd.read_excel(\"sp500.xlsx\",index_col=0)[['PX_LAST']]\n",
    "SP500=SP500.reset_index(drop=False).resample('M', on='Date').sum().pct_change()[6:169]"
   ]
  },
  {
   "cell_type": "code",
   "execution_count": null,
   "metadata": {},
   "outputs": [],
   "source": [
    "pastor = pd.read_csv(\"pastor_series.txt\", delimiter='\\t').reset_index(drop=False)\n",
    "pastor.columns = ['Date','Agg_Liq','Innov_Liq','Traded_Liq']\n",
    "pastor = pastor.set_index('Date')['Agg_Liq'][527:689]"
   ]
  },
  {
   "cell_type": "code",
   "execution_count": null,
   "metadata": {},
   "outputs": [],
   "source": [
    "# Données d'exemple\n",
    "x = np.column_stack((SSI['0'], VIX['VIX Index']))\n",
    "y = SP500['PX_LAST'].shift(-1).dropna()\n",
    "x_with_const = sm.add_constant(x)\n",
    "\n",
    "# Modélisation de la régression\n",
    "model = sm.OLS(y, x_with_const)\n",
    "results = model.fit()\n",
    "print(results.summary())\n"
   ]
  },
  {
   "cell_type": "code",
   "execution_count": null,
   "metadata": {},
   "outputs": [],
   "source": [
    "# Données d'exemple\n",
    "x = np.column_stack((SSI['0'], pastor))\n",
    "y = SP500['PX_LAST'].shift(-1).dropna()\n",
    "x_with_const = sm.add_constant(x)\n",
    "\n",
    "# Modélisation de la régression\n",
    "model = sm.OLS(y, x_with_const)\n",
    "results = model.fit()\n",
    "print(results.summary())\n"
   ]
  }
 ],
 "metadata": {
  "kernelspec": {
   "display_name": "Python 3",
   "language": "python",
   "name": "python3"
  },
  "language_info": {
   "codemirror_mode": {
    "name": "ipython",
    "version": 3
   },
   "file_extension": ".py",
   "mimetype": "text/x-python",
   "name": "python",
   "nbconvert_exporter": "python",
   "pygments_lexer": "ipython3",
   "version": "3.11.2"
  }
 },
 "nbformat": 4,
 "nbformat_minor": 2
}
