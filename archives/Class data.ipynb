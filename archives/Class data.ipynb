{
 "cells": [
  {
   "cell_type": "code",
   "execution_count": null,
   "metadata": {},
   "outputs": [],
   "source": []
  },
  {
   "cell_type": "code",
   "execution_count": null,
   "metadata": {},
   "outputs": [],
   "source": [
    "# # df =  Data(['AAPL','MSFT'])\n",
    "# df_ETF_date =  'SSO QLD DDM QID SDS DXD'\n",
    "# yf.download(df_ETF_date, start=\"2008-01-01\", end=\"2023-04-30\")['Close']\n"
   ]
  },
  {
   "cell_type": "code",
   "execution_count": null,
   "metadata": {},
   "outputs": [],
   "source": [
    "# df.fetch_data()\n",
    "# pd.DataFrame(df.get_summary()).transpose()\n",
    "# df.get_summary()\n",
    "# df.plot_data()\n",
    "# df.get_latest_price()\n",
    "# df = yf.Ticker(\"IBM\").history(start=\"2017-01-01\", end=\"2017-04-30\")['Close']\n",
    "yf.download('SSO', start=\"2008-01-01\", end=\"2023-04-30\")['Close']\n"
   ]
  },
  {
   "cell_type": "code",
   "execution_count": null,
   "metadata": {},
   "outputs": [],
   "source": [
    "# spx = yf.Ticker('^GSPC')\n",
    "# expiration_dates = spx.options\n",
    "# print(\"Available expiration dates:\", expiration_dates)\n",
    "\n",
    "# # # Fetch the data\n",
    "# # snp_data = yf.download(symbol, start=\"2023-01-01\", end=\"2023-12-31\")\n",
    "\n",
    "# # # Display the data\n",
    "# # print(snp_data.head())"
   ]
  },
  {
   "cell_type": "code",
   "execution_count": null,
   "metadata": {},
   "outputs": [],
   "source": [
    "\n",
    "# opt = spx.option_chain(date='2025-06-20')\n",
    "# opt.calls\n"
   ]
  },
  {
   "cell_type": "code",
   "execution_count": null,
   "metadata": {},
   "outputs": [],
   "source": [
    "# from datetime import date\n",
    "\n",
    "# today = date.today()\n",
    "# # yf.download('aapl', period=\"1d\")['Close']\n",
    "# try:\n",
    "#     return yf.download('aapl', period=\"1d\")['Close']\n",
    "# except:\n",
    "#     return \\\n",
    "#     print(f'Download failed! Possible error in symbol used.') \\\n",
    "#     print(f'Please refer to the list of Yahoo finance Symbols provided or online ressources for Yahoo Finance Symbols.') \\\n",
    "#     print(f'The error message received is : {NameError}')\n",
    "# # print(yf.download(t, period=\"1d\")['Close'])"
   ]
  },
  {
   "cell_type": "code",
   "execution_count": null,
   "metadata": {},
   "outputs": [],
   "source": [
    "# data = yf.download('tte', period=\"1y\")['Close']\n",
    "# # TTE= yf.Ticker('TTE')\n",
    "# # TTE.summary\n",
    "# # df_TTE.to_excel(r'./TTE.xlsx')\n",
    "# data.plot(title=f\"tte Closing Prices\")\n"
   ]
  },
  {
   "cell_type": "code",
   "execution_count": null,
   "metadata": {},
   "outputs": [],
   "source": [
    "# from datetime import date\n",
    "# class yf_Data:\n",
    "\n",
    "#     df_ETF_date =  'SSO QLD DDM QID SDS DXD'\n",
    "\n",
    "#     @staticmethod\n",
    "#     def fn_yf_get_ETF_data():\n",
    "#         \"\"\"\n",
    "#         Get historical daily close data for the leveraged ETFs \n",
    "#         (SSO QLD DDM QID SDS DXD) mentionned in the article\n",
    "#         for the dates mentioned in the article from Yahoo Finance.\n",
    "#         \"\"\"\n",
    "#         # df_ETF_date =  'SSO QLD DDM QID SDS DXD'\n",
    "#         return yf.download(df_ETF_date, start=\"2008-01-01\", end=\"2023-04-30\")['Close']\n",
    "\n",
    "#     @staticmethod\n",
    "#     def fn_yf_get_last_close(symbol):\n",
    "#         \"\"\"\n",
    "#         Get the latest closing price for the ticker.\n",
    "#         :param symbol: Yahoo Finance Symbol.\n",
    "#         \"\"\"\n",
    "#         return yf.download(symbol, period='1d')['Close']\n",
    "    \n",
    "#     @staticmethod\n",
    "#     def get_summary(symbol, period = \"1y\"):\n",
    "#         \"\"\"\n",
    "#         Get a summary of the stock's and performance over a given period.\n",
    "#         :param symbol: Yahoo Finance Symbol.\n",
    "#         :param period: (Optional) periode of study\n",
    "#         \"\"\"\n",
    "\n",
    "#         summary = {\n",
    "#             'Symbol': symbol,\n",
    "#             'Last Close': fn_yf_get_last_close(symbol),\n",
    "#             'Mean Close': fn_yf_get_last_close(symbol, period).mean(),\n",
    "#             'Median Close': fn_yf_get_last_close(symbol, period).median(),\n",
    "#             'Standard Deviation': fn_yf_get_last_close(symbol, period).std(),\n",
    "#         }\n",
    "#         return pd.DataFrame(summary).transpose()\n"
   ]
  },
  {
   "cell_type": "code",
   "execution_count": null,
   "metadata": {},
   "outputs": [],
   "source": [
    "class yf_Data:\n",
    "\n",
    "    df_ETF_date =  'SSO QLD DDM QID SDS DXD'\n",
    "\n",
    "    @staticmethod\n",
    "    def fn_yf_get_ETF_data():\n",
    "        \"\"\"\n",
    "        Get historical daily close data for the leveraged ETFs mentionned in the article\n",
    "        for the dates mentioned in the article from Yahoo Finance.\n",
    "        \"\"\"\n",
    "        df_ETF_date =  'SSO QLD DDM QID SDS DXD'\n",
    "        yf.download(df_ETF_date, start=\"2008-01-01\", end=\"2023-04-30\")['Close']\n",
    "    \n",
    "    def fetch_data(self, start=None, end=None, interval='1d'):\n",
    "        \"\"\"\n",
    "        Fetch historical market data from Yahoo Finance.\n",
    "        :param start: Start date in 'YYYY-MM-DD' format or None for default.\n",
    "        :param end: End date in 'YYYY-MM-DD' format or None for default.\n",
    "        :param interval: Data interval ('1d', '1wk', '1mo', etc.).\n",
    "        \"\"\"\n",
    "        self.data = yf.download(self.ticker, start=start, end=end, interval=interval)\n",
    "        return self.data\n",
    "\n",
    "    def get_latest_price(self):\n",
    "        \"\"\"\n",
    "        Get the latest closing price for the ticker.\n",
    "        \"\"\"\n",
    "        if self.data is None:\n",
    "            self.fetch_data()\n",
    "        return self.data['Close'].iloc[-1]\n",
    "\n",
    "    def get_summary(self):\n",
    "        \"\"\"\n",
    "        Get a summary of the stock's performance.\n",
    "        \"\"\"\n",
    "        if self.data is None:\n",
    "            self.fetch_data()\n",
    "        summary = {\n",
    "            'Ticker': self.ticker,\n",
    "            'Last Close': self.get_latest_price(),\n",
    "            'Mean Close': self.data['Close'].mean(),\n",
    "            'Median Close': self.data['Close'].median(),\n",
    "            'Standard Deviation': self.data['Close'].std(),\n",
    "            'Total Volume': self.data['Volume'].sum()\n",
    "        }\n",
    "        return pd.DataFrame(summary,\n",
    "                        index= [self.ticker]).transpose()\n",
    "\n",
    "    def plot_data(self):\n",
    "        \"\"\"\n",
    "        Plot the historical data.\n",
    "        \"\"\"\n",
    "        if self.data is None:\n",
    "            self.fetch_data()\n",
    "        self.data['Close'].plot(title=f\"{self.ticker} Closing Prices\")\n",
    "\n",
    "\n"
   ]
  },
  {
   "cell_type": "code",
   "execution_count": 5,
   "metadata": {},
   "outputs": [],
   "source": [
    "import yfinance as yf\n",
    "import pandas as pd\n",
    "class yf_Data:\n",
    "\n",
    "    df_ETF_date =  'SSO QLD DDM QID SDS DXD'\n",
    "\n",
    "    @staticmethod\n",
    "    def get_ETF_data():\n",
    "        \"\"\"\n",
    "        Get historical daily close data for the leveraged ETFs mentionned in the article\n",
    "        for the dates mentioned in the article from Yahoo Finance.\n",
    "        \"\"\"\n",
    "        df_ETF_date =  'SSO QLD DDM QID SDS DXD'\n",
    "        data = yf.download(df_ETF_date, start=\"2008-01-01\", end=\"2023-04-30\")['Close']\n",
    "        return data\n",
    "\n",
    "    @staticmethod\n",
    "    def get_yf_data(symbol,start_date,end_date):\n",
    "        \"\"\"\n",
    "        Get historical daily close data for the leveraged ETFs mentionned in the article\n",
    "        for the dates mentioned in the article from Yahoo Finance.\n",
    "        \"\"\"\n",
    "        data = yf.download(symbol, start=start_date, end=end_date)['Close']\n",
    "        return data\n",
    "\n",
    "    @staticmethod\n",
    "    def get_last_close(symbol, period = \"1d\"):\n",
    "        \"\"\"\n",
    "        Get the latest closing price for the ticker.\n",
    "        :param symbol: Yahoo Finance Symbol.\n",
    "        \"\"\"\n",
    "        return yf.download(symbol, period=period)['Close']\n",
    "    \n",
    "    @staticmethod\n",
    "    def get_summary(symbol, period = \"1y\"):\n",
    "        \"\"\"\n",
    "        Get a summary of the stock's performance.\n",
    "        \"\"\"\n",
    "        summary = {\n",
    "            'Symbol': symbol,\n",
    "            'Last Close': yf_Data.get_last_close(symbol),\n",
    "            'Mean Close': yf_Data.get_last_close(symbol, period).mean(),\n",
    "            'Median Close': yf_Data.get_last_close(symbol, period).median(),\n",
    "            'Standard Deviation': yf_Data.get_last_close(symbol, period).std(),\n",
    "        }\n",
    "        return pd.DataFrame(summary).transpose()"
   ]
  },
  {
   "cell_type": "code",
   "execution_count": 8,
   "metadata": {},
   "outputs": [
    {
     "name": "stderr",
     "output_type": "stream",
     "text": [
      "[*********************100%%**********************]  1 of 1 completed\n",
      "[*********************100%%**********************]  1 of 1 completed\n",
      "[*********************100%%**********************]  1 of 1 completed\n",
      "[*********************100%%**********************]  1 of 1 completed\n"
     ]
    }
   ],
   "source": [
    "df = yf_Data.get_summary('AAPL')"
   ]
  },
  {
   "cell_type": "code",
   "execution_count": 9,
   "metadata": {},
   "outputs": [
    {
     "data": {
      "text/html": [
       "<div>\n",
       "<style scoped>\n",
       "    .dataframe tbody tr th:only-of-type {\n",
       "        vertical-align: middle;\n",
       "    }\n",
       "\n",
       "    .dataframe tbody tr th {\n",
       "        vertical-align: top;\n",
       "    }\n",
       "\n",
       "    .dataframe thead th {\n",
       "        text-align: right;\n",
       "    }\n",
       "</style>\n",
       "<table border=\"1\" class=\"dataframe\">\n",
       "  <thead>\n",
       "    <tr style=\"text-align: right;\">\n",
       "      <th>Date</th>\n",
       "      <th>2024-06-07</th>\n",
       "    </tr>\n",
       "  </thead>\n",
       "  <tbody>\n",
       "    <tr>\n",
       "      <th>Symbol</th>\n",
       "      <td>AAPL</td>\n",
       "    </tr>\n",
       "    <tr>\n",
       "      <th>Last Close</th>\n",
       "      <td>196.889999</td>\n",
       "    </tr>\n",
       "    <tr>\n",
       "      <th>Mean Close</th>\n",
       "      <td>182.756825</td>\n",
       "    </tr>\n",
       "    <tr>\n",
       "      <th>Median Close</th>\n",
       "      <td>183.345001</td>\n",
       "    </tr>\n",
       "    <tr>\n",
       "      <th>Standard Deviation</th>\n",
       "      <td>8.640695</td>\n",
       "    </tr>\n",
       "  </tbody>\n",
       "</table>\n",
       "</div>"
      ],
      "text/plain": [
       "Date                2024-06-07\n",
       "Symbol                    AAPL\n",
       "Last Close          196.889999\n",
       "Mean Close          182.756825\n",
       "Median Close        183.345001\n",
       "Standard Deviation    8.640695"
      ]
     },
     "execution_count": 9,
     "metadata": {},
     "output_type": "execute_result"
    }
   ],
   "source": [
    "df"
   ]
  },
  {
   "cell_type": "code",
   "execution_count": null,
   "metadata": {},
   "outputs": [],
   "source": [
    "# 1d - 1 day\n",
    "# 5d - 5 days\n",
    "# 1mo - 1 month\n",
    "# 3mo - 3 months\n",
    "# 6mo - 6 months\n",
    "# 1y - 1 year\n",
    "# 2y - 2 years\n",
    "# 5y - 5 years\n",
    "# 10y - 10 years\n",
    "# ytd - Year to date\n",
    "# max - Maximum available data"
   ]
  }
 ],
 "metadata": {
  "kernelspec": {
   "display_name": "Python 3",
   "language": "python",
   "name": "python3"
  },
  "language_info": {
   "codemirror_mode": {
    "name": "ipython",
    "version": 3
   },
   "file_extension": ".py",
   "mimetype": "text/x-python",
   "name": "python",
   "nbconvert_exporter": "python",
   "pygments_lexer": "ipython3",
   "version": "3.11.9"
  }
 },
 "nbformat": 4,
 "nbformat_minor": 2
}
