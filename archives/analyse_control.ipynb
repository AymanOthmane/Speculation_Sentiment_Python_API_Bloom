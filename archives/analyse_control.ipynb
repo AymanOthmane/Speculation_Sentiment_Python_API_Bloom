{
 "cells": [
  {
   "cell_type": "code",
   "execution_count": null,
   "metadata": {},
   "outputs": [],
   "source": [
    "import numpy as np\n",
    "import pandas as pd\n",
    "import matplotlib.pyplot as plt\n",
    "import statsmodels.api as sm"
   ]
  },
  {
   "cell_type": "code",
   "execution_count": null,
   "metadata": {},
   "outputs": [],
   "source": [
    "SSI = pd.read_csv(r'..\\data\\SSI.csv',index_col=0)[:162]"
   ]
  },
  {
   "cell_type": "code",
   "execution_count": 3,
   "metadata": {},
   "outputs": [
    {
     "name": "stderr",
     "output_type": "stream",
     "text": [
      "C:\\Users\\collo\\AppData\\Local\\Temp\\ipykernel_42196\\3174864934.py:2: FutureWarning: 'M' is deprecated and will be removed in a future version, please use 'ME' instead.\n",
      "  VIX=VIX.reset_index(drop=False).resample('M', on='Date').sum()[1:163]\n"
     ]
    }
   ],
   "source": [
    "VIX = pd.read_excel(r\"..\\data\\vix.xlsx\",index_col=0)[['VIX Index']]\n",
    "VIX=VIX.reset_index(drop=False).resample('M', on='Date').sum()[1:163]"
   ]
  },
  {
   "cell_type": "code",
   "execution_count": 4,
   "metadata": {},
   "outputs": [
    {
     "name": "stderr",
     "output_type": "stream",
     "text": [
      "C:\\Users\\collo\\AppData\\Local\\Temp\\ipykernel_42196\\1578521792.py:2: FutureWarning: 'M' is deprecated and will be removed in a future version, please use 'ME' instead.\n",
      "  SP500=SP500.reset_index(drop=False).resample('M', on='Date').sum().pct_change()[6:169]\n"
     ]
    }
   ],
   "source": [
    "SP500 = pd.read_excel(r\"..\\data\\sp500.xlsx\",index_col=0)[['PX_LAST']]\n",
    "SP500=SP500.reset_index(drop=False).resample('M', on='Date').sum().pct_change()[6:169]"
   ]
  },
  {
   "cell_type": "code",
   "execution_count": 5,
   "metadata": {},
   "outputs": [],
   "source": [
    "pastor = pd.read_csv(r\"..\\data\\pastor_series.txt\", delimiter='\\t').reset_index(drop=False)\n",
    "pastor.columns = ['Date','Agg_Liq','Innov_Liq','Traded_Liq']\n",
    "pastor = pastor.set_index('Date')['Agg_Liq'][527:689]"
   ]
  },
  {
   "cell_type": "code",
   "execution_count": 6,
   "metadata": {},

   "outputs": [
    {
     "name": "stdout",
     "output_type": "stream",
     "text": [
      "                            OLS Regression Results                            \n",
      "==============================================================================\n",
      "Dep. Variable:                PX_LAST   R-squared:                       0.061\n",
      "Model:                            OLS   Adj. R-squared:                  0.049\n",
      "Method:                 Least Squares   F-statistic:                     5.123\n",
      "Date:                Sun, 14 Apr 2024   Prob (F-statistic):            0.00698\n",
      "Time:                        18:11:51   Log-Likelihood:                 154.53\n",
      "No. Observations:                 162   AIC:                            -303.1\n",
      "Df Residuals:                     159   BIC:                            -293.8\n",
      "Df Model:                           2                                         \n",
      "Covariance Type:            nonrobust                                         \n",
      "==============================================================================\n",
      "                 coef    std err          t      P>|t|      [0.025      0.975]\n",
      "------------------------------------------------------------------------------\n",
      "const          0.0444      0.018      2.519      0.013       0.010       0.079\n",
      "x1            -0.0217      0.010     -2.274      0.024      -0.040      -0.003\n",
      "x2         -9.008e-05      4e-05     -2.251      0.026      -0.000    -1.1e-05\n",
      "==============================================================================\n",
      "Omnibus:                        2.747   Durbin-Watson:                   3.133\n",
      "Prob(Omnibus):                  0.253   Jarque-Bera (JB):                2.642\n",
      "Skew:                           0.249   Prob(JB):                        0.267\n",
      "Kurtosis:                       2.622   Cond. No.                     1.05e+03\n",
      "==============================================================================\n",
      "\n",
      "Notes:\n",
      "[1] Standard Errors assume that the covariance matrix of the errors is correctly specified.\n",
      "[2] The condition number is large, 1.05e+03. This might indicate that there are\n",
      "strong multicollinearity or other numerical problems.\n"
     ]
    }
   ],
   "source": [
    "# Données d'exemple\n",
    "x = np.column_stack((SSI['0'], VIX['VIX Index']))\n",
    "y = SP500['PX_LAST'].shift(-1).dropna()\n",
    "x_with_const = sm.add_constant(x)\n",
    "\n",
    "# Modélisation de la régression\n",
    "model = sm.OLS(y, x_with_const)\n",
    "results = model.fit()\n",
    "print(results.summary())\n"
   ]
  },
  {
   "cell_type": "code",
   "execution_count": 7,
   "metadata": {},

   "outputs": [
    {
     "name": "stdout",
     "output_type": "stream",
     "text": [
      "                            OLS Regression Results                            \n",
      "==============================================================================\n",
      "Dep. Variable:                PX_LAST   R-squared:                       0.033\n",
      "Model:                            OLS   Adj. R-squared:                  0.021\n",
      "Method:                 Least Squares   F-statistic:                     2.703\n",
      "Date:                Sun, 14 Apr 2024   Prob (F-statistic):             0.0701\n",
      "Time:                        18:11:51   Log-Likelihood:                 152.18\n",
      "No. Observations:                 162   AIC:                            -298.4\n",
      "Df Residuals:                     159   BIC:                            -289.1\n",
      "Df Model:                           2                                         \n",
      "Covariance Type:            nonrobust                                         \n",
      "==============================================================================\n",
      "                 coef    std err          t      P>|t|      [0.025      0.975]\n",
      "------------------------------------------------------------------------------\n",
      "const          0.0095      0.008      1.227      0.222      -0.006       0.025\n",
      "x1            -0.0213      0.010     -2.203      0.029      -0.040      -0.002\n",
      "x2             0.0705      0.115      0.611      0.542      -0.157       0.298\n",
      "==============================================================================\n",
      "Omnibus:                        2.832   Durbin-Watson:                   3.156\n",
      "Prob(Omnibus):                  0.243   Jarque-Bera (JB):                2.633\n",
      "Skew:                           0.236   Prob(JB):                        0.268\n",
      "Kurtosis:                       2.591   Cond. No.                         15.6\n",
      "==============================================================================\n",
      "\n",
      "Notes:\n",
      "[1] Standard Errors assume that the covariance matrix of the errors is correctly specified.\n"
     ]
    }
   ],


   "source": [
    "# Données d'exemple\n",
    "x = np.column_stack((SSI['0'], pastor))\n",
    "y = SP500['PX_LAST'].shift(-1).dropna()\n",
    "x_with_const = sm.add_constant(x)\n",
    "\n",
    "# Modélisation de la régression\n",
    "model = sm.OLS(y, x_with_const)\n",
    "results = model.fit()\n",
    "print(results.summary())\n"
   ]
  }
 ],
 "metadata": {
  "kernelspec": {
   "display_name": "Python 3",
   "language": "python",
   "name": "python3"
  },
  "language_info": {
   "codemirror_mode": {
    "name": "ipython",
    "version": 3
   },
   "file_extension": ".py",
   "mimetype": "text/x-python",
   "name": "python",
   "nbconvert_exporter": "python",
   "pygments_lexer": "ipython3",
   "version": "3.11.2"
  }
 },
 "nbformat": 4,
 "nbformat_minor": 2
}
